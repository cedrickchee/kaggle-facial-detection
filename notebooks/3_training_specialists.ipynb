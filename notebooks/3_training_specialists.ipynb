{
 "cells": [
  {
   "cell_type": "markdown",
   "metadata": {},
   "source": [
    "# Third model: Training specialists"
   ]
  },
  {
   "cell_type": "markdown",
   "metadata": {},
   "source": [
    "A pipeline of specialist CNNs with early stopping and supervised pre-training."
   ]
  },
  {
   "cell_type": "markdown",
   "metadata": {},
   "source": [
    "## Early stopping, loading pre-trained model."
   ]
  },
  {
   "cell_type": "code",
   "execution_count": 1,
   "metadata": {
    "ExecuteTime": {
     "end_time": "2018-02-01T04:15:01.581641Z",
     "start_time": "2018-02-01T04:14:56.176214Z"
    }
   },
   "outputs": [
    {
     "name": "stderr",
     "output_type": "stream",
     "text": [
      "/home/ubuntu/anaconda2/envs/tf/lib/python3.6/site-packages/sklearn/cross_validation.py:41: DeprecationWarning: This module was deprecated in version 0.18 in favor of the model_selection module into which all the refactored classes and functions are moved. Also note that the interface of the new CV iterators are different from that of this module. This module will be removed in 0.20.\n",
      "  \"This module will be removed in 0.20.\", DeprecationWarning)\n",
      "WARNING (theano.configdefaults): install mkl with `conda install mkl-service`: No module named 'mkl'\n",
      "WARNING (theano.tensor.blas): Using NumPy C-API based implementation for BLAS functions.\n",
      "Using cuDNN version 7005 on context None\n",
      "Mapped name None to device cuda: Tesla K80 (0000:00:1E.0)\n"
     ]
    }
   ],
   "source": [
    "%matplotlib inline\n",
    "\n",
    "import os\n",
    "import time\n",
    "import numpy as np\n",
    "import matplotlib\n",
    "from matplotlib import pyplot\n",
    "from pandas import DataFrame\n",
    "from pandas.io.parsers import read_csv\n",
    "from sklearn.utils import shuffle\n",
    "from sklearn.cross_validation import train_test_split\n",
    "from nolearn.lasagne import BatchIterator\n",
    "import tensorflow as tf"
   ]
  },
  {
   "cell_type": "markdown",
   "metadata": {},
   "source": [
    "## Loading data"
   ]
  },
  {
   "cell_type": "markdown",
   "metadata": {},
   "source": [
    "Paths to datasets."
   ]
  },
  {
   "cell_type": "code",
   "execution_count": 2,
   "metadata": {
    "ExecuteTime": {
     "end_time": "2018-02-01T04:15:56.912505Z",
     "start_time": "2018-02-01T04:15:56.909041Z"
    }
   },
   "outputs": [],
   "source": [
    "FROOT = os.getcwd() # Path to your project folder\n",
    "FTRAIN = FROOT + '/data/training.csv'\n",
    "FTEST = FROOT + '/data/test.csv'\n",
    "FLOOKUP = FROOT + '/data/IdLookupTable.csv'"
   ]
  },
  {
   "cell_type": "code",
   "execution_count": 4,
   "metadata": {
    "ExecuteTime": {
     "end_time": "2018-02-01T04:17:12.766120Z",
     "start_time": "2018-02-01T04:17:12.735410Z"
    }
   },
   "outputs": [],
   "source": [
    "def load(test=False, cols=None):\n",
    "    \"\"\"\n",
    "    Loads the dataset.\n",
    "\n",
    "    Parameters\n",
    "    ----------\n",
    "    test     : optional, defaults to `False`\n",
    "               Flag indicating if we need to load from `FTEST` (`True`) or FTRAIN (`False`)\n",
    "    cols     : optional, defaults to `None`\n",
    "               A list of columns you're interested in. If specified only returns these columns.\n",
    "    Returns\n",
    "    -------\n",
    "    A tuple of X and y, if `test` was set to `True` y contains `None`.\n",
    "    \"\"\"\n",
    "\n",
    "    fname = FTEST if test else FTRAIN\n",
    "    df = read_csv(os.path.expanduser(fname))  # load pandas dataframe\n",
    "\n",
    "    # The Image column has pixel values separated by space; convert\n",
    "    # the values to numpy arrays:\n",
    "    df['Image'] = df['Image'].apply(lambda im: np.fromstring(im, sep = ' '))\n",
    "\n",
    "    if cols:  # get a subset of columns\n",
    "        df = df[list(cols) + ['Image']]\n",
    "\n",
    "    print(df.count())  # prints the number of values for each column\n",
    "    df = df.dropna()  # drop all rows that have missing values in them\n",
    "\n",
    "    X = np.vstack(df['Image'].values) / 255.  # scale pixel values to [0, 1]\n",
    "    X = X.astype(np.float32)\n",
    "\n",
    "    if not test:  # only FTRAIN has any target columns\n",
    "        y = df[df.columns[:-1]].values\n",
    "        y = (y - 48) / 48  # scale target coordinates to [-1, 1]\n",
    "        X, y = shuffle(X, y, random_state=42)  # shuffle train data\n",
    "        y = y.astype(np.float32)\n",
    "    else:\n",
    "        y = None\n",
    "\n",
    "    return X, y"
   ]
  },
  {
   "cell_type": "code",
   "execution_count": 5,
   "metadata": {
    "ExecuteTime": {
     "end_time": "2018-02-01T04:17:54.180681Z",
     "start_time": "2018-02-01T04:17:54.175998Z"
    }
   },
   "outputs": [],
   "source": [
    "def plot_sample(x, y, axis):\n",
    "    \"\"\"\n",
    "    Plots a single sample image with keypoints on top.\n",
    "\n",
    "    Parameters\n",
    "    ----------\n",
    "    x     : Image data.\n",
    "    y     : Keypoints to plot.\n",
    "    axis  : Plot over which to draw the sample.\n",
    "    \"\"\"\n",
    "    img = x.reshape(96, 96)\n",
    "    axis.imshow(img, cmap='gray')\n",
    "    axis.scatter(y[0::2] * 48 + 48, y[1::2] * 48 + 48, marker='x', s=10)"
   ]
  },
  {
   "cell_type": "code",
   "execution_count": 6,
   "metadata": {
    "ExecuteTime": {
     "end_time": "2018-02-01T04:18:13.430861Z",
     "start_time": "2018-02-01T04:18:13.425954Z"
    }
   },
   "outputs": [],
   "source": [
    "num_channels = 1 # grayscale\n",
    "image_size = 96\n",
    "\n",
    "def load2d(test=False, cols=None):\n",
    "    X, y = load(test=test, cols=cols)\n",
    "    X = X.reshape(-1, image_size, image_size, num_channels)\n",
    "    return X, y"
   ]
  },
  {
   "cell_type": "markdown",
   "metadata": {},
   "source": [
    "## Parameters"
   ]
  },
  {
   "cell_type": "markdown",
   "metadata": {},
   "source": [
    "Predefined parameters:"
   ]
  },
  {
   "cell_type": "code",
   "execution_count": 7,
   "metadata": {
    "ExecuteTime": {
     "end_time": "2018-02-01T04:19:24.660322Z",
     "start_time": "2018-02-01T04:19:24.657270Z"
    }
   },
   "outputs": [],
   "source": [
    "batch_size = 36\n",
    "every_epoch_to_log = 5\n",
    "\n",
    "root_location = FROOT + \"/models/\""
   ]
  },
  {
   "cell_type": "code",
   "execution_count": 9,
   "metadata": {
    "ExecuteTime": {
     "end_time": "2018-02-01T04:20:35.179128Z",
     "start_time": "2018-02-01T04:20:35.169388Z"
    }
   },
   "outputs": [],
   "source": [
    "def model_name(spec_name):\n",
    "    \"\"\"\n",
    "    Generates model name for a specialist.\n",
    "    \"\"\"\n",
    "    return \"spec_\" + spec_name\n",
    "\n",
    "def model_path(spec_name):\n",
    "    \"\"\"\n",
    "    Generates model path for a specialist.\n",
    "    \"\"\"\n",
    "    return root_location + \"specialists/\" + model_name(spec_name) + \"/model.ckpt\"\n",
    "\n",
    "def train_history_path(spec_name):\n",
    "    \"\"\"\n",
    "    Generates path to a training history file for a specialist.\n",
    "    \"\"\"\n",
    "    return root_location + \"specialists/\" + model_name(spec_name) + \"/train_history\"\n",
    "\n",
    "def create_directory_for_specialist(spec_name):\n",
    "    \"\"\"\n",
    "    Creates necessary folders for a specialist.\n",
    "    \"\"\"\n",
    "    os.makedirs(root_location + \"specialists/\" + model_name(spec_name) + \"/\", exist_ok=True)"
   ]
  },
  {
   "cell_type": "markdown",
   "metadata": {},
   "source": [
    "## Specialists"
   ]
  },
  {
   "cell_type": "code",
   "execution_count": 10,
   "metadata": {
    "ExecuteTime": {
     "end_time": "2018-02-01T04:22:11.059167Z",
     "start_time": "2018-02-01T04:22:11.028446Z"
    }
   },
   "outputs": [],
   "source": [
    "SPECIALIST_SETTINGS = [\n",
    "    dict(\n",
    "        name = \"eye_center\",\n",
    "        columns = (\n",
    "            'left_eye_center_x', 'left_eye_center_y',\n",
    "            'right_eye_center_x', 'right_eye_center_y',\n",
    "            ),\n",
    "        flip_indices = ((0, 2), (1, 3)),\n",
    "        ),\n",
    "\n",
    "    dict(\n",
    "        name = \"nose_tip\",\n",
    "        columns = (\n",
    "            'nose_tip_x', 'nose_tip_y',\n",
    "            ),\n",
    "        flip_indices = (),\n",
    "        ),\n",
    "\n",
    "    dict(\n",
    "        name = \"mouth_corner_top\",\n",
    "        columns = (\n",
    "            'mouth_left_corner_x', 'mouth_left_corner_y',\n",
    "            'mouth_right_corner_x', 'mouth_right_corner_y',\n",
    "            'mouth_center_top_lip_x', 'mouth_center_top_lip_y',\n",
    "            ),\n",
    "        flip_indices = ((0, 2), (1, 3)),\n",
    "        ),\n",
    "\n",
    "    dict(\n",
    "        name = \"mouth_bottom\",\n",
    "        columns = (\n",
    "            'mouth_center_bottom_lip_x',\n",
    "            'mouth_center_bottom_lip_y',\n",
    "            ),\n",
    "        flip_indices = (),\n",
    "        ),\n",
    "\n",
    "    dict(\n",
    "        name = \"eye_corner\",\n",
    "        columns = (\n",
    "            'left_eye_inner_corner_x', 'left_eye_inner_corner_y',\n",
    "            'right_eye_inner_corner_x', 'right_eye_inner_corner_y',\n",
    "            'left_eye_outer_corner_x', 'left_eye_outer_corner_y',\n",
    "            'right_eye_outer_corner_x', 'right_eye_outer_corner_y',\n",
    "            ),\n",
    "        flip_indices = ((0, 2), (1, 3), (4, 6), (5, 7)),\n",
    "        ),\n",
    "\n",
    "    dict(\n",
    "        name = \"eyebrow\",\n",
    "        columns = (\n",
    "            'left_eyebrow_inner_end_x', 'left_eyebrow_inner_end_y',\n",
    "            'right_eyebrow_inner_end_x', 'right_eyebrow_inner_end_y',\n",
    "            'left_eyebrow_outer_end_x', 'left_eyebrow_outer_end_y',\n",
    "            'right_eyebrow_outer_end_x', 'right_eyebrow_outer_end_y',\n",
    "            ),\n",
    "        flip_indices = ((0, 2), (1, 3), (4, 6), (5, 7)),\n",
    "        ),\n",
    "    ]"
   ]
  },
  {
   "cell_type": "markdown",
   "metadata": {},
   "source": [
    "## Routines"
   ]
  },
  {
   "cell_type": "markdown",
   "metadata": {},
   "source": [
    "This is our data augmentation routine. It randomly flips a defined portion of dataset horizontally."
   ]
  },
  {
   "cell_type": "code",
   "execution_count": 11,
   "metadata": {
    "ExecuteTime": {
     "end_time": "2018-02-01T04:23:33.481093Z",
     "start_time": "2018-02-01T04:23:33.449678Z"
    }
   },
   "outputs": [],
   "source": [
    "class FlipBatchIterator(BatchIterator):\n",
    "    \"\"\"\n",
    "    Batch iterator that randomly flips a defined portion of dataset horizontally.\n",
    "    \"\"\"\n",
    "\n",
    "    flip_indices = [\n",
    "        (0, 2), (1, 3),\n",
    "        (4, 8), (5, 9), (6, 10), (7, 11),\n",
    "        (12, 16), (13, 17), (14, 18), (15, 19),\n",
    "        (22, 24), (23, 25),\n",
    "        ]\n",
    "\n",
    "    def transform(self, Xb, yb):\n",
    "        Xb, yb = super(FlipBatchIterator, self).transform(Xb, yb)\n",
    "\n",
    "        # Flip half of the images in this batch at random:\n",
    "        bs = Xb.shape[0]\n",
    "        indices = np.random.choice(bs, int(bs / 2), replace=False)\n",
    "        Xb[indices] = Xb[indices, :, ::-1, :]\n",
    "\n",
    "        if yb is not None:\n",
    "            # Horizontal flip of all x coordinates:\n",
    "            yb[indices, ::2] = yb[indices, ::2] * -1\n",
    "\n",
    "            # Swap places, e.g. left_eye_center_x -> right_eye_center_x\n",
    "            for a, b in self.flip_indices:\n",
    "                yb[indices, a], yb[indices, b] = (\n",
    "                    yb[indices, b], yb[indices, a])\n",
    "\n",
    "        return Xb, yb"
   ]
  },
  {
   "cell_type": "markdown",
   "metadata": {},
   "source": [
    "This is our early stopping routine."
   ]
  },
  {
   "cell_type": "code",
   "execution_count": 12,
   "metadata": {
    "ExecuteTime": {
     "end_time": "2018-02-01T05:05:16.526629Z",
     "start_time": "2018-02-01T05:05:16.493210Z"
    }
   },
   "outputs": [],
   "source": [
    "class EarlyStopping(object):\n",
    "    \"\"\"\n",
    "    Provides early stopping functionality. Keeps track of model training value,\n",
    "    and if it doesn't improve over time restores last best performing parameters.\n",
    "    \"\"\"\n",
    "\n",
    "    def __init__(self, saver, session, patience=100, minimize=True):\n",
    "        \"\"\"\n",
    "        Initialises a `EarlyStopping` instance.\n",
    "\n",
    "        Parameters\n",
    "        ----------\n",
    "        saver     : TensorFlow Saver object to be used for saving and restoring model.\n",
    "        session   : TensorFlow Session object containing graph where model is restored.\n",
    "        patience  : Early stopping patience. This is the number of epochs we wait for the tracked\n",
    "                    value to start improving again before stopping and restoring \n",
    "                    previous best performing parameters.\n",
    "        \"\"\"\n",
    "        self.minimize = minimize\n",
    "        self.patience = patience\n",
    "        self.saver = saver\n",
    "        self.session = session\n",
    "        self.best_monitored_value = np.inf if minimize else 0.\n",
    "        self.best_monitored_epoch = 0\n",
    "        self.restore_path = None\n",
    "\n",
    "    def __call__(self, value, epoch):\n",
    "        \"\"\"\n",
    "        Checks if we need to stop and restores the last well performing values if we do.\n",
    "\n",
    "        Parameters\n",
    "        ----------\n",
    "        value : Last epoch monitored value.\n",
    "        epoch : Last epoch number.\n",
    "\n",
    "        Returns\n",
    "        -------\n",
    "        `True` if we waited enough and it's time to stop and we restored the\n",
    "        best performing weights, or `False` otherwise.\n",
    "        \"\"\"\n",
    "        if (self.minimize and value < self.best_monitored_value) or (not self.minimize and value > self.best_monitored_value):\n",
    "            self.best_monitored_value = value\n",
    "            self.best_monitored_epoch = epoch\n",
    "            self.restore_path = self.saver.save(self.session, os.getcwd() + \"/early_stopping_checkpoint\")\n",
    "        elif self.best_monitored_epoch + self.patience < epoch:\n",
    "            if self.restore_path != None:\n",
    "                self.saver.restore(self.session, self.restore_path)\n",
    "            else:\n",
    "                print(\"ERROR: Failed to restore session\")\n",
    "            return True\n",
    "\n",
    "        return False"
   ]
  },
  {
   "cell_type": "markdown",
   "metadata": {},
   "source": [
    "Performs a single fully connected layer pass, e.g. returns input * weights + bias:"
   ]
  },
  {
   "cell_type": "code",
   "execution_count": 14,
   "metadata": {
    "ExecuteTime": {
     "end_time": "2018-02-01T05:14:47.623809Z",
     "start_time": "2018-02-01T05:14:47.613850Z"
    }
   },
   "outputs": [],
   "source": [
    "def fully_connected(input, size):\n",
    "    \"\"\"\n",
    "    Creates a fully connected TensorFlow layer.\n",
    "\n",
    "    Parameters\n",
    "    ----------\n",
    "    input  : Input tensor for calculating layer shape.\n",
    "    size   : Layer size, e.g. number of units.\n",
    "  \n",
    "    Returns\n",
    "    -------\n",
    "    A graph variable calculating single fully connected layer.\n",
    "    \"\"\"\n",
    "    weights = tf.get_variable( 'weights', \n",
    "        shape = [input.get_shape()[1], size],\n",
    "        initializer = tf.contrib.layers.xavier_initializer()\n",
    "      )\n",
    "    biases = tf.get_variable( 'biases',\n",
    "        shape = [size],\n",
    "        initializer=tf.constant_initializer(0.0)\n",
    "      )\n",
    "    return tf.matmul(input, weights) + biases\n",
    "\n",
    "def fully_connected_relu(input, size):\n",
    "    \"\"\"\n",
    "    Creates a fully connected TensorFlow layer with ReLU non-linearity applied.\n",
    "    \"\"\"\n",
    "    return tf.nn.relu(fully_connected(input, size))"
   ]
  },
  {
   "cell_type": "markdown",
   "metadata": {},
   "source": [
    "Routine for a single convolution layer pass."
   ]
  },
  {
   "cell_type": "code",
   "execution_count": 15,
   "metadata": {
    "ExecuteTime": {
     "end_time": "2018-02-01T05:15:24.600216Z",
     "start_time": "2018-02-01T05:15:24.592246Z"
    }
   },
   "outputs": [],
   "source": [
    "def conv_relu(input, kernel_size, depth):\n",
    "    \"\"\"\n",
    "    Creates a convolutional TensorFlow layer followed by a ReLU.\n",
    "\n",
    "    Parameters\n",
    "    ----------\n",
    "    input         : Input tensor for calculating layer shape.\n",
    "    kernel_size   : Kernel size, we assume a square kernel.\n",
    "    depth         : Layer depth, e.g. number of units.\n",
    "\n",
    "    Returns\n",
    "    -------\n",
    "    A graph variable calculating convolutional layer with applied ReLU.\n",
    "    \"\"\"\n",
    "    weights = tf.get_variable( 'weights', \n",
    "        shape = [kernel_size, kernel_size, input.get_shape()[3], depth],\n",
    "        initializer = tf.contrib.layers.xavier_initializer()\n",
    "      )\n",
    "    biases = tf.get_variable( 'biases',\n",
    "        shape = [depth],\n",
    "        initializer=tf.constant_initializer(0.0)\n",
    "      )\n",
    "    conv = tf.nn.conv2d(input, weights,\n",
    "        strides=[1, 1, 1, 1], padding='SAME')\n",
    "    return tf.nn.relu(conv + biases)"
   ]
  },
  {
   "cell_type": "markdown",
   "metadata": {},
   "source": [
    "Routine for a pooling layer."
   ]
  },
  {
   "cell_type": "code",
   "execution_count": 16,
   "metadata": {
    "ExecuteTime": {
     "end_time": "2018-02-01T05:16:02.293922Z",
     "start_time": "2018-02-01T05:16:02.289752Z"
    }
   },
   "outputs": [],
   "source": [
    "def pool(input, size):\n",
    "    \"\"\"\n",
    "    Performs max pooling.\n",
    "\n",
    "    Parameters\n",
    "    ----------\n",
    "    input  : Input tensor.\n",
    "    size   : Pooling kernel size, assuming it's square.\n",
    "\n",
    "    Returns\n",
    "    -------\n",
    "    A graph variable calculating single max pooling layer.\n",
    "    \"\"\"\n",
    "    return tf.nn.max_pool(\n",
    "        input, \n",
    "        ksize=[1, size, size, 1],\n",
    "        strides=[1, size, size, 1],\n",
    "        padding='SAME'\n",
    "    )"
   ]
  },
  {
   "cell_type": "markdown",
   "metadata": {},
   "source": [
    "Routine that performs entire model pass, e.g. returns model prediction for given input with current model (3 convolution layers with 2 fully connected layers):"
   ]
  },
  {
   "cell_type": "code",
   "execution_count": 17,
   "metadata": {
    "ExecuteTime": {
     "end_time": "2018-02-01T05:17:25.178607Z",
     "start_time": "2018-02-01T05:17:25.124613Z"
    }
   },
   "outputs": [],
   "source": [
    "def model_pass(input, keypoints, training):\n",
    "    \"\"\"\n",
    "    Performs a whole model pass.\n",
    "\n",
    "    Parameters\n",
    "    ----------\n",
    "    input     : Input tensor to be passed through the model.\n",
    "    keypoints : Number of keypoints.\n",
    "    training  : Tensorflow flag indicating if we are training or evaluating our model\n",
    "                (so that we know if we should apply dropout).\n",
    "\n",
    "    Returns\n",
    "    -------\n",
    "    Model prediction.\n",
    "    \"\"\"\n",
    "    # Convolutional layers\n",
    "    with tf.variable_scope('conv1'):\n",
    "        conv1 = conv_relu(input, kernel_size = 3, depth = 32)\n",
    "        pool1 = pool(conv1, size = 2)\n",
    "        # Apply dropout if needed\n",
    "        pool1 = tf.cond(training, lambda: tf.nn.dropout(pool1, keep_prob = 0.9), lambda: pool1)\n",
    "    with tf.variable_scope('conv2'):\n",
    "        conv2 = conv_relu(pool1, kernel_size = 2, depth = 64)\n",
    "        pool2 = pool(conv2, size = 2)\n",
    "        # Apply dropout if needed\n",
    "        pool2 = tf.cond(training, lambda: tf.nn.dropout(pool2, keep_prob = 0.8), lambda: pool2)\n",
    "    with tf.variable_scope('conv3'):\n",
    "        conv3 = conv_relu(pool2, kernel_size = 2, depth = 128)\n",
    "        pool3 = pool(conv3, size = 2)\n",
    "        # Apply dropout if needed\n",
    "        pool3 = tf.cond(training, lambda: tf.nn.dropout(pool3, keep_prob = 0.7), lambda: pool3)\n",
    "\n",
    "    # Flatten convolutional layers output\n",
    "    shape = pool3.get_shape().as_list()\n",
    "    flattened = tf.reshape(pool3, [-1, shape[1] * shape[2] * shape[3]])\n",
    "\n",
    "    # Fully connected layers\n",
    "    with tf.variable_scope('fc4'):\n",
    "        fc4 = fully_connected_relu(flattened, size = 1000)\n",
    "        # Apply dropout if needed\n",
    "        fc4 = tf.cond(training, lambda: tf.nn.dropout(fc4, keep_prob = 0.5), lambda: fc4)\n",
    "    with tf.variable_scope('fc5'):\n",
    "        fc5 = fully_connected_relu(fc4, size = 1000)\n",
    "    with tf.variable_scope('out'):\n",
    "        prediction = fully_connected(fc5, size = keypoints)\n",
    "    return prediction"
   ]
  },
  {
   "cell_type": "markdown",
   "metadata": {},
   "source": [
    "Calculates loss based on model predictions."
   ]
  },
  {
   "cell_type": "code",
   "execution_count": 18,
   "metadata": {
    "ExecuteTime": {
     "end_time": "2018-02-01T05:17:58.262630Z",
     "start_time": "2018-02-01T05:17:58.259202Z"
    }
   },
   "outputs": [],
   "source": [
    "def calc_loss(predictions, labels):\n",
    "    \"\"\"\n",
    "    Calculates loss with NumPy.\n",
    "\n",
    "    Parameters\n",
    "    ----------\n",
    "    predictions : ndarray\n",
    "                  Predictions.\n",
    "    labels      : ndarray\n",
    "                  Actual values.\n",
    "\n",
    "    Returns\n",
    "    -------\n",
    "    Squared mean error for given predictions.\n",
    "    \"\"\"\n",
    "    return np.mean(np.square(predictions - labels))"
   ]
  },
  {
   "cell_type": "markdown",
   "metadata": {},
   "source": [
    "Calculates time since start and formats as a string."
   ]
  },
  {
   "cell_type": "code",
   "execution_count": 19,
   "metadata": {
    "ExecuteTime": {
     "end_time": "2018-02-01T05:18:28.490070Z",
     "start_time": "2018-02-01T05:18:28.483979Z"
    }
   },
   "outputs": [],
   "source": [
    "def get_time_hhmmss(start):\n",
    "    \"\"\"\n",
    "    Calculates time since `start` and formats as a string.\n",
    "\n",
    "    Parameters\n",
    "    ----------\n",
    "    start : Time starting point.\n",
    "\n",
    "    Returns\n",
    "    -------\n",
    "    Nicely formatted time difference between now and `start`.\n",
    "    \"\"\"\n",
    "    end = time.time()\n",
    "    m, s = divmod(end - start, 60)\n",
    "    h, m = divmod(m, 60)\n",
    "    time_str = \"%02d:%02d:%02d\" % (h, m, s)\n",
    "    return time_str"
   ]
  },
  {
   "cell_type": "markdown",
   "metadata": {},
   "source": [
    "## Training"
   ]
  },
  {
   "cell_type": "code",
   "execution_count": 20,
   "metadata": {
    "ExecuteTime": {
     "end_time": "2018-02-01T05:19:28.668858Z",
     "start_time": "2018-02-01T05:19:28.660527Z"
    }
   },
   "outputs": [],
   "source": [
    "def get_predictions_in_batches(X, session, predictions, tf_x_batch, is_training):\n",
    "    \"\"\"\n",
    "    Calculates predictions in batches of 128 examples at a time, using `session`'s calculation graph.\n",
    "\n",
    "    Parameters\n",
    "    ----------\n",
    "    X           : ndarray\n",
    "                  Dataset to get predictions for.\n",
    "    session     : TensorFlow session to be used for predicting. Is expected to have a `predictions` var\n",
    "                  in the graph along with a `tf_x_batch` placeholder for incoming data.\n",
    "    predictions : TensorFlow variable from the graph in `session` with model predictions.\n",
    "    tf_x_batch  : TensorFlow placeholder from the graph in `session` with data batch.\n",
    "    is_training : TensorFlow placeholder from the graph in `session` with a flag indicating if we're training or testing.\n",
    "\n",
    "    Returns\n",
    "    -------\n",
    "    N-dimensional array of predictions.\n",
    "    \"\"\"\n",
    "    p = []\n",
    "    batch_iterator = BatchIterator(batch_size = 128)\n",
    "    for x_batch, y_batch in batch_iterator(X):\n",
    "        [p_batch] = session.run([predictions], feed_dict = {\n",
    "                tf_x_batch : x_batch,\n",
    "                is_training : False\n",
    "            }\n",
    "        )\n",
    "        p.extend(p_batch)\n",
    "    return p"
   ]
  },
  {
   "cell_type": "code",
   "execution_count": 21,
   "metadata": {
    "ExecuteTime": {
     "end_time": "2018-02-01T05:23:25.341064Z",
     "start_time": "2018-02-01T05:23:25.016930Z"
    }
   },
   "outputs": [],
   "source": [
    "def train_specialist(spec_setting):\n",
    "    \"\"\"\n",
    "    Trains a single specialist as per its settings.\n",
    "\n",
    "    Parameters\n",
    "    ----------\n",
    "    spec_setting : Specialist settings.\n",
    "    \"\"\"\n",
    "\n",
    "    # Initialising routines:\n",
    "\n",
    "    # Load data and split into datasets\n",
    "    X, y = load2d(cols=spec_setting['columns'])\n",
    "    x_train, x_test, y_train, y_test = train_test_split(X, y, test_size=0.3)\n",
    "    x_test, x_valid, y_test, y_valid = train_test_split(x_test, y_test, test_size=0.5)\n",
    "\n",
    "    # Work out some specialist settings and prepare the file paths\n",
    "    spec_name = spec_setting['name']\n",
    "    create_directory_for_specialist(spec_name)\n",
    "    spec_var_scope = model_name(spec_name)\n",
    "    initialising_model = \"3con_2fc_b36_e1000_aug_lrdec_mominc_dr\"\n",
    "\n",
    "    # Calculate some of the training hyperparameters based on the specialist and available data\n",
    "    max_epochs = int(1e7 / y.shape[0])\n",
    "    num_keypoints = y.shape[1]\n",
    "\n",
    "    # Note training time start\n",
    "    spec_start = time.time()\n",
    "\n",
    "    # Build the graph\n",
    "    graph = tf.Graph()\n",
    "    with graph.as_default():\n",
    "        # Input data. For the training data, we use a placeholder that will be fed at run time with a training minibatch.\n",
    "        tf_x_batch = tf.placeholder(tf.float32, shape = (None, image_size, image_size, num_channels))\n",
    "        tf_y_batch = tf.placeholder(tf.float32, shape = (None, num_keypoints))\n",
    "        is_training = tf.placeholder(tf.bool)\n",
    "\n",
    "        current_epoch = tf.Variable(0)  # count the number of epochs\n",
    "\n",
    "        # Model parameters.\n",
    "        learning_rate = tf.train.exponential_decay(0.03, current_epoch, decay_steps = max_epochs, decay_rate = 0.03)\n",
    "        momentum = 0.9 + (0.99 - 0.9) * (current_epoch / max_epochs)\n",
    "\n",
    "        # Training computation.\n",
    "        with tf.variable_scope(spec_var_scope):\n",
    "            predictions = model_pass(tf_x_batch, num_keypoints, is_training)\n",
    "\n",
    "        loss = tf.reduce_mean(tf.square(predictions - tf_y_batch))\n",
    "\n",
    "        # Optimizer.\n",
    "        optimizer = tf.train.MomentumOptimizer(\n",
    "            learning_rate = learning_rate,\n",
    "            momentum = momentum,\n",
    "            use_nesterov = True\n",
    "        ).minimize(loss)\n",
    "\n",
    "    # Initiate training\n",
    "    with tf.Session(graph = graph) as session:\n",
    "        session.run(tf.global_variables_initializer())\n",
    "        saver = tf.train.Saver()\n",
    "        early_stopping = EarlyStopping(saver, session)\n",
    "        train_loss_history = np.zeros(max_epochs)\n",
    "        valid_loss_history = np.zeros(max_epochs)\n",
    "\n",
    "        print(\"======= RESTORING SESSION =======\")\n",
    "        # Exclude output layer weights from variables we will restore\n",
    "        variables_to_restore = [v for v in tf.global_variables() if \"/out/\" not in v.op.name]\n",
    "        # Replace variables scope with that of the current model\n",
    "        loader = tf.train.Saver({v.op.name.replace(spec_var_scope, initialising_model): v for v in variables_to_restore})\n",
    "        load_path = root_location + initialising_model + \"/model.ckpt\"\n",
    "        loader.restore(session, load_path)\n",
    "        print(\" Model loaded from: \" + load_path)\n",
    "\n",
    "        print(\"======= TRAINING: \" + spec_name.replace(\"_\", \" \").upper() + \" on \" + str(y.shape[0]) + \" EXAMPLES ========\")\n",
    "        for epoch in range(max_epochs):\n",
    "            current_epoch = epoch\n",
    "            # Train on whole randomised dataset in batches\n",
    "            batch_iterator = FlipBatchIterator(batch_size=batch_size, shuffle=True)\n",
    "            batch_iterator.flip_indices = spec_setting['flip_indices']\n",
    "            for x_batch, y_batch in batch_iterator(x_train, y_train):\n",
    "                session.run([optimizer], feed_dict = {\n",
    "                        tf_x_batch : x_batch,\n",
    "                        tf_y_batch : y_batch,\n",
    "                        is_training : True\n",
    "                    }\n",
    "                )\n",
    "\n",
    "            # Get validation data predictions and log validation loss:\n",
    "            valid_loss = calc_loss(\n",
    "                get_predictions_in_batches(x_valid, session, predictions, tf_x_batch, is_training),\n",
    "                y_valid\n",
    "            )\n",
    "            valid_loss_history[epoch] = valid_loss\n",
    "            \n",
    "            # If another significant epoch ended, we log our losses.\n",
    "            if (epoch % every_epoch_to_log == 0):\n",
    "                # Get training data predictions and log training loss:\n",
    "                train_loss = calc_loss(\n",
    "                    get_predictions_in_batches(x_train, session, predictions, tf_x_batch, is_training),\n",
    "                    y_train\n",
    "                )\n",
    "                train_loss_history[epoch] = train_loss\n",
    "\n",
    "                if (epoch % 100 == 0):\n",
    "                    print(\"--------- EPOCH %4d/%d ---------\" % (epoch, max_epochs))\n",
    "                    print(\"     Train loss: %.8f\" % (train_loss))\n",
    "                    print(\"Validation loss: %.8f\" % (valid_loss))\n",
    "                    print(\"           Time: \" + get_time_hhmmss(spec_start))\n",
    "\n",
    "            if early_stopping(valid_loss, epoch): break\n",
    "            \n",
    "        # Evaluate on test dataset.\n",
    "        test_loss = calc_loss(\n",
    "            get_predictions_in_batches(x_test, session, predictions, tf_x_batch, is_training),\n",
    "            y_test\n",
    "        )\n",
    "        print(\"=========== \" + spec_name.replace(\"_\", \" \").upper() + \": ============\")\n",
    "        print(\" Test score: %.3f (loss = %.8f)\" % (np.sqrt(test_loss) * 48.0, test_loss))\n",
    "        print(\" Total time: \" + get_time_hhmmss(spec_start))\n",
    "\n",
    "        # Save model weights for future use.\n",
    "        save_path = saver.save(session, model_path(spec_name))\n",
    "        print(\"Model file: \" + save_path)\n",
    "        np.savez(train_history_path(spec_name), train_loss_history = train_loss_history, valid_loss_history = valid_loss_history)\n",
    "        print(\"Train history file: \" + train_history_path(spec_name))\n",
    "        print(\"\\n\")"
   ]
  },
  {
   "cell_type": "code",
   "execution_count": 22,
   "metadata": {
    "ExecuteTime": {
     "end_time": "2018-02-01T09:04:51.726757Z",
     "start_time": "2018-02-01T05:33:20.971591Z"
    }
   },
   "outputs": [
    {
     "name": "stdout",
     "output_type": "stream",
     "text": [
      "left_eye_center_x     7039\n",
      "left_eye_center_y     7039\n",
      "right_eye_center_x    7036\n",
      "right_eye_center_y    7036\n",
      "Image                 7049\n",
      "dtype: int64\n",
      "======= RESTORING SESSION =======\n",
      "INFO:tensorflow:Restoring parameters from /home/ubuntu/development/gh-repo/kaggle-facial-detection/notebooks/models/3con_2fc_b36_e1000_aug_lrdec_mominc_dr/model.ckpt\n",
      " Model loaded from: /home/ubuntu/development/gh-repo/kaggle-facial-detection/notebooks/models/3con_2fc_b36_e1000_aug_lrdec_mominc_dr/model.ckpt\n",
      "======= TRAINING: EYE CENTER on 7033 EXAMPLES ========\n",
      "--------- EPOCH    0/1421 ---------\n",
      "     Train loss: 0.00300575\n",
      "Validation loss: 0.00423222\n",
      "           Time: 00:00:09\n",
      "--------- EPOCH  100/1421 ---------\n",
      "     Train loss: 0.00122885\n",
      "Validation loss: 0.00298991\n",
      "           Time: 00:10:17\n",
      "--------- EPOCH  200/1421 ---------\n",
      "     Train loss: 0.00087466\n",
      "Validation loss: 0.00287036\n",
      "           Time: 00:20:06\n",
      "--------- EPOCH  300/1421 ---------\n",
      "     Train loss: 0.00069299\n",
      "Validation loss: 0.00273809\n",
      "           Time: 00:29:53\n",
      "--------- EPOCH  400/1421 ---------\n",
      "     Train loss: 0.00059154\n",
      "Validation loss: 0.00278973\n",
      "           Time: 00:39:35\n",
      "INFO:tensorflow:Restoring parameters from /home/ubuntu/development/gh-repo/kaggle-facial-detection/notebooks/early_stopping_checkpoint\n",
      "=========== EYE CENTER: ============\n",
      " Test score: 2.668 (loss = 0.00308992)\n",
      " Total time: 00:42:58\n",
      "Model file: /home/ubuntu/development/gh-repo/kaggle-facial-detection/notebooks/models/specialists/spec_eye_center/model.ckpt\n",
      "Train history file: /home/ubuntu/development/gh-repo/kaggle-facial-detection/notebooks/models/specialists/spec_eye_center/train_history\n",
      "\n",
      "\n",
      "nose_tip_x    7049\n",
      "nose_tip_y    7049\n",
      "Image         7049\n",
      "dtype: int64\n",
      "======= RESTORING SESSION =======\n",
      "INFO:tensorflow:Restoring parameters from /home/ubuntu/development/gh-repo/kaggle-facial-detection/notebooks/models/3con_2fc_b36_e1000_aug_lrdec_mominc_dr/model.ckpt\n",
      " Model loaded from: /home/ubuntu/development/gh-repo/kaggle-facial-detection/notebooks/models/3con_2fc_b36_e1000_aug_lrdec_mominc_dr/model.ckpt\n",
      "======= TRAINING: NOSE TIP on 7049 EXAMPLES ========\n",
      "--------- EPOCH    0/1418 ---------\n",
      "     Train loss: 0.00620402\n",
      "Validation loss: 0.00560310\n",
      "           Time: 00:00:07\n",
      "--------- EPOCH  100/1418 ---------\n",
      "     Train loss: 0.00222794\n",
      "Validation loss: 0.00345277\n",
      "           Time: 00:10:13\n",
      "--------- EPOCH  200/1418 ---------\n",
      "     Train loss: 0.00190130\n",
      "Validation loss: 0.00376749\n",
      "           Time: 00:20:04\n",
      "--------- EPOCH  300/1418 ---------\n",
      "     Train loss: 0.00090349\n",
      "Validation loss: 0.00301787\n",
      "           Time: 00:29:50\n",
      "--------- EPOCH  400/1418 ---------\n",
      "     Train loss: 0.00073102\n",
      "Validation loss: 0.00301268\n",
      "           Time: 00:39:34\n",
      "INFO:tensorflow:Restoring parameters from /home/ubuntu/development/gh-repo/kaggle-facial-detection/notebooks/early_stopping_checkpoint\n",
      "=========== NOSE TIP: ============\n",
      " Test score: 2.692 (loss = 0.00314549)\n",
      " Total time: 00:47:48\n",
      "Model file: /home/ubuntu/development/gh-repo/kaggle-facial-detection/notebooks/models/specialists/spec_nose_tip/model.ckpt\n",
      "Train history file: /home/ubuntu/development/gh-repo/kaggle-facial-detection/notebooks/models/specialists/spec_nose_tip/train_history\n",
      "\n",
      "\n",
      "mouth_left_corner_x       2269\n",
      "mouth_left_corner_y       2269\n",
      "mouth_right_corner_x      2270\n",
      "mouth_right_corner_y      2270\n",
      "mouth_center_top_lip_x    2275\n",
      "mouth_center_top_lip_y    2275\n",
      "Image                     7049\n",
      "dtype: int64\n",
      "======= RESTORING SESSION =======\n",
      "INFO:tensorflow:Restoring parameters from /home/ubuntu/development/gh-repo/kaggle-facial-detection/notebooks/models/3con_2fc_b36_e1000_aug_lrdec_mominc_dr/model.ckpt\n",
      " Model loaded from: /home/ubuntu/development/gh-repo/kaggle-facial-detection/notebooks/models/3con_2fc_b36_e1000_aug_lrdec_mominc_dr/model.ckpt\n",
      "======= TRAINING: MOUTH CORNER TOP on 2260 EXAMPLES ========\n",
      "--------- EPOCH    0/4424 ---------\n",
      "     Train loss: 0.00714357\n",
      "Validation loss: 0.00827071\n",
      "           Time: 00:00:03\n",
      "--------- EPOCH  100/4424 ---------\n",
      "     Train loss: 0.00122299\n",
      "Validation loss: 0.00210372\n",
      "           Time: 00:03:52\n",
      "--------- EPOCH  200/4424 ---------\n",
      "     Train loss: 0.00098960\n",
      "Validation loss: 0.00195075\n",
      "           Time: 00:07:08\n",
      "--------- EPOCH  300/4424 ---------\n",
      "     Train loss: 0.00084179\n",
      "Validation loss: 0.00189995\n",
      "           Time: 00:10:25\n",
      "--------- EPOCH  400/4424 ---------\n",
      "     Train loss: 0.00073048\n",
      "Validation loss: 0.00184867\n",
      "           Time: 00:13:37\n",
      "--------- EPOCH  500/4424 ---------\n",
      "     Train loss: 0.00064941\n",
      "Validation loss: 0.00186571\n",
      "           Time: 00:16:49\n",
      "INFO:tensorflow:Restoring parameters from /home/ubuntu/development/gh-repo/kaggle-facial-detection/notebooks/early_stopping_checkpoint\n",
      "=========== MOUTH CORNER TOP: ============\n",
      " Test score: 1.812 (loss = 0.00142581)\n",
      " Total time: 00:19:44\n",
      "Model file: /home/ubuntu/development/gh-repo/kaggle-facial-detection/notebooks/models/specialists/spec_mouth_corner_top/model.ckpt\n",
      "Train history file: /home/ubuntu/development/gh-repo/kaggle-facial-detection/notebooks/models/specialists/spec_mouth_corner_top/train_history\n",
      "\n",
      "\n",
      "mouth_center_bottom_lip_x    7016\n",
      "mouth_center_bottom_lip_y    7016\n",
      "Image                        7049\n",
      "dtype: int64\n",
      "======= RESTORING SESSION =======\n",
      "INFO:tensorflow:Restoring parameters from /home/ubuntu/development/gh-repo/kaggle-facial-detection/notebooks/models/3con_2fc_b36_e1000_aug_lrdec_mominc_dr/model.ckpt\n",
      " Model loaded from: /home/ubuntu/development/gh-repo/kaggle-facial-detection/notebooks/models/3con_2fc_b36_e1000_aug_lrdec_mominc_dr/model.ckpt\n",
      "======= TRAINING: MOUTH BOTTOM on 7016 EXAMPLES ========\n",
      "--------- EPOCH    0/1425 ---------\n",
      "     Train loss: 0.00533537\n",
      "Validation loss: 0.00526882\n",
      "           Time: 00:00:07\n",
      "--------- EPOCH  100/1425 ---------\n",
      "     Train loss: 0.00175276\n",
      "Validation loss: 0.00323111\n",
      "           Time: 00:10:09\n",
      "--------- EPOCH  200/1425 ---------\n",
      "     Train loss: 0.00115745\n",
      "Validation loss: 0.00314566\n",
      "           Time: 00:19:53\n",
      "INFO:tensorflow:Restoring parameters from /home/ubuntu/development/gh-repo/kaggle-facial-detection/notebooks/early_stopping_checkpoint\n",
      "=========== MOUTH BOTTOM: ============\n",
      " Test score: 2.654 (loss = 0.00305651)\n",
      " Total time: 00:25:38\n",
      "Model file: /home/ubuntu/development/gh-repo/kaggle-facial-detection/notebooks/models/specialists/spec_mouth_bottom/model.ckpt\n",
      "Train history file: /home/ubuntu/development/gh-repo/kaggle-facial-detection/notebooks/models/specialists/spec_mouth_bottom/train_history\n",
      "\n",
      "\n",
      "left_eye_inner_corner_x     2271\n",
      "left_eye_inner_corner_y     2271\n",
      "right_eye_inner_corner_x    2268\n",
      "right_eye_inner_corner_y    2268\n",
      "left_eye_outer_corner_x     2267\n",
      "left_eye_outer_corner_y     2267\n",
      "right_eye_outer_corner_x    2268\n",
      "right_eye_outer_corner_y    2268\n",
      "Image                       7049\n",
      "dtype: int64\n",
      "======= RESTORING SESSION =======\n",
      "INFO:tensorflow:Restoring parameters from /home/ubuntu/development/gh-repo/kaggle-facial-detection/notebooks/models/3con_2fc_b36_e1000_aug_lrdec_mominc_dr/model.ckpt\n",
      " Model loaded from: /home/ubuntu/development/gh-repo/kaggle-facial-detection/notebooks/models/3con_2fc_b36_e1000_aug_lrdec_mominc_dr/model.ckpt\n",
      "======= TRAINING: EYE CORNER on 2247 EXAMPLES ========\n",
      "--------- EPOCH    0/4450 ---------\n",
      "     Train loss: 0.00266929\n",
      "Validation loss: 0.00278515\n",
      "           Time: 00:00:03\n",
      "--------- EPOCH  100/4450 ---------\n",
      "     Train loss: 0.00089478\n",
      "Validation loss: 0.00107536\n",
      "           Time: 00:03:57\n",
      "--------- EPOCH  200/4450 ---------\n",
      "     Train loss: 0.00071490\n",
      "Validation loss: 0.00102617\n",
      "           Time: 00:07:13\n",
      "--------- EPOCH  300/4450 ---------\n",
      "     Train loss: 0.00056739\n",
      "Validation loss: 0.00098269\n",
      "           Time: 00:10:24\n",
      "--------- EPOCH  400/4450 ---------\n",
      "     Train loss: 0.00048636\n",
      "Validation loss: 0.00095210\n",
      "           Time: 00:13:35\n",
      "--------- EPOCH  500/4450 ---------\n",
      "     Train loss: 0.00042955\n",
      "Validation loss: 0.00092360\n",
      "           Time: 00:16:43\n",
      "--------- EPOCH  600/4450 ---------\n",
      "     Train loss: 0.00037812\n",
      "Validation loss: 0.00091833\n",
      "           Time: 00:19:53\n",
      "INFO:tensorflow:Restoring parameters from /home/ubuntu/development/gh-repo/kaggle-facial-detection/notebooks/early_stopping_checkpoint\n",
      "=========== EYE CORNER: ============\n",
      " Test score: 1.509 (loss = 0.00098873)\n",
      " Total time: 00:20:55\n",
      "Model file: /home/ubuntu/development/gh-repo/kaggle-facial-detection/notebooks/models/specialists/spec_eye_corner/model.ckpt\n",
      "Train history file: /home/ubuntu/development/gh-repo/kaggle-facial-detection/notebooks/models/specialists/spec_eye_corner/train_history\n",
      "\n",
      "\n"
     ]
    },
    {
     "name": "stdout",
     "output_type": "stream",
     "text": [
      "left_eyebrow_inner_end_x     2270\n",
      "left_eyebrow_inner_end_y     2270\n",
      "right_eyebrow_inner_end_x    2270\n",
      "right_eyebrow_inner_end_y    2270\n",
      "left_eyebrow_outer_end_x     2225\n",
      "left_eyebrow_outer_end_y     2225\n",
      "right_eyebrow_outer_end_x    2236\n",
      "right_eyebrow_outer_end_y    2236\n",
      "Image                        7049\n",
      "dtype: int64\n",
      "======= RESTORING SESSION =======\n",
      "INFO:tensorflow:Restoring parameters from /home/ubuntu/development/gh-repo/kaggle-facial-detection/notebooks/models/3con_2fc_b36_e1000_aug_lrdec_mominc_dr/model.ckpt\n",
      " Model loaded from: /home/ubuntu/development/gh-repo/kaggle-facial-detection/notebooks/models/3con_2fc_b36_e1000_aug_lrdec_mominc_dr/model.ckpt\n",
      "======= TRAINING: EYEBROW on 2190 EXAMPLES ========\n",
      "--------- EPOCH    0/4566 ---------\n",
      "     Train loss: 0.00474460\n",
      "Validation loss: 0.00455406\n",
      "           Time: 00:00:03\n",
      "--------- EPOCH  100/4566 ---------\n",
      "     Train loss: 0.00157584\n",
      "Validation loss: 0.00137231\n",
      "           Time: 00:03:55\n",
      "--------- EPOCH  200/4566 ---------\n",
      "     Train loss: 0.00122267\n",
      "Validation loss: 0.00131191\n",
      "           Time: 00:07:05\n",
      "--------- EPOCH  300/4566 ---------\n",
      "     Train loss: 0.00099103\n",
      "Validation loss: 0.00123127\n",
      "           Time: 00:10:13\n",
      "--------- EPOCH  400/4566 ---------\n",
      "     Train loss: 0.00083443\n",
      "Validation loss: 0.00119523\n",
      "           Time: 00:13:23\n",
      "--------- EPOCH  500/4566 ---------\n",
      "     Train loss: 0.00073861\n",
      "Validation loss: 0.00114670\n",
      "           Time: 00:16:27\n",
      "--------- EPOCH  600/4566 ---------\n",
      "     Train loss: 0.00069293\n",
      "Validation loss: 0.00114300\n",
      "           Time: 00:19:35\n",
      "--------- EPOCH  700/4566 ---------\n",
      "     Train loss: 0.00061748\n",
      "Validation loss: 0.00111702\n",
      "           Time: 00:22:40\n",
      "--------- EPOCH  800/4566 ---------\n",
      "     Train loss: 0.00060143\n",
      "Validation loss: 0.00113285\n",
      "           Time: 00:25:44\n",
      "--------- EPOCH  900/4566 ---------\n",
      "     Train loss: 0.00053730\n",
      "Validation loss: 0.00109583\n",
      "           Time: 00:28:47\n",
      "--------- EPOCH 1000/4566 ---------\n",
      "     Train loss: 0.00049514\n",
      "Validation loss: 0.00107527\n",
      "           Time: 00:31:50\n",
      "--------- EPOCH 1100/4566 ---------\n",
      "     Train loss: 0.00048328\n",
      "Validation loss: 0.00107906\n",
      "           Time: 00:34:54\n",
      "--------- EPOCH 1200/4566 ---------\n",
      "     Train loss: 0.00045444\n",
      "Validation loss: 0.00107149\n",
      "           Time: 00:37:57\n",
      "--------- EPOCH 1300/4566 ---------\n",
      "     Train loss: 0.00043208\n",
      "Validation loss: 0.00107678\n",
      "           Time: 00:40:59\n",
      "--------- EPOCH 1400/4566 ---------\n",
      "     Train loss: 0.00040889\n",
      "Validation loss: 0.00105367\n",
      "           Time: 00:44:02\n",
      "--------- EPOCH 1500/4566 ---------\n",
      "     Train loss: 0.00040113\n",
      "Validation loss: 0.00107030\n",
      "           Time: 00:47:06\n",
      "--------- EPOCH 1600/4566 ---------\n",
      "     Train loss: 0.00037797\n",
      "Validation loss: 0.00106023\n",
      "           Time: 00:50:08\n",
      "INFO:tensorflow:Restoring parameters from /home/ubuntu/development/gh-repo/kaggle-facial-detection/notebooks/early_stopping_checkpoint\n",
      "=========== EYEBROW: ============\n",
      " Test score: 1.616 (loss = 0.00113292)\n",
      " Total time: 00:53:02\n",
      "Model file: /home/ubuntu/development/gh-repo/kaggle-facial-detection/notebooks/models/specialists/spec_eyebrow/model.ckpt\n",
      "Train history file: /home/ubuntu/development/gh-repo/kaggle-facial-detection/notebooks/models/specialists/spec_eyebrow/train_history\n",
      "\n",
      "\n",
      "====== ALL SPECIALISTS TRAINED =======\n",
      " Total time: 03:31:30\n"
     ]
    }
   ],
   "source": [
    "start = time.time()\n",
    "\n",
    "for spec_setting in SPECIALIST_SETTINGS:\n",
    "    train_specialist(spec_setting)\n",
    "    \n",
    "print(\"====== ALL SPECIALISTS TRAINED =======\")\n",
    "print(\" Total time: \" + get_time_hhmmss(start))"
   ]
  },
  {
   "cell_type": "markdown",
   "metadata": {},
   "source": [
    "## Evaluation"
   ]
  },
  {
   "cell_type": "markdown",
   "metadata": {},
   "source": [
    "Plots history of learning curves for a specific model. You may want to call `pyplot.show()` afterwards."
   ]
  },
  {
   "cell_type": "code",
   "execution_count": 23,
   "metadata": {
    "ExecuteTime": {
     "end_time": "2018-02-01T09:09:27.699860Z",
     "start_time": "2018-02-01T09:09:27.690004Z"
    }
   },
   "outputs": [],
   "source": [
    "def plot_learning_curves(spec_name, color):\n",
    "    \"\"\"\n",
    "    Plots history of learning curves for a specific specialist based on the saved training history.\n",
    "    You may want to call `pyplot.show()` afterwards.\n",
    "\n",
    "    Parameters\n",
    "    ----------\n",
    "    spec_name   : Specialist name.\n",
    "    color       : Line color.\n",
    "\n",
    "    Returns\n",
    "    -------\n",
    "    Number of epochs plotted.\n",
    "    \"\"\"\n",
    "    model_history = np.load(train_history_path(spec_name) + \".npz\")\n",
    "    train_loss = model_history[\"train_loss_history\"]\n",
    "    valid_loss = model_history[\"valid_loss_history\"]\n",
    "    epochs = train_loss.shape[0]\n",
    "    x_axis = np.arange(epochs)\n",
    "    pyplot.plot(x_axis[train_loss > 0], train_loss[train_loss > 0], color + \"--\", linewidth=2, label = spec_name.replace(\"_\", \" \").title())\n",
    "    pyplot.plot(x_axis[valid_loss > 0], valid_loss[valid_loss > 0], color + \"-\", linewidth=2)\n",
    "    return epochs"
   ]
  },
  {
   "cell_type": "code",
   "execution_count": 24,
   "metadata": {
    "ExecuteTime": {
     "end_time": "2018-02-01T09:09:32.245394Z",
     "start_time": "2018-02-01T09:09:31.806921Z"
    }
   },
   "outputs": [
    {
     "data": {
      "image/png": "[encoded data removed]",
      "text/plain": [
       "<matplotlib.figure.Figure at 0x7f9434e80240>"
      ]
     },
     "metadata": {},
     "output_type": "display_data"
    }
   ],
   "source": [
    "max_model_epochs = 0\n",
    "colors = [\"b\", \"g\", \"r\", \"c\", \"m\", \"y\", \"k\", \"w\"]\n",
    "for spec_setting in SPECIALIST_SETTINGS:\n",
    "    spec_epochs = plot_learning_curves(spec_setting['name'], colors[SPECIALIST_SETTINGS.index(spec_setting) % len(colors)])\n",
    "    if spec_epochs > max_model_epochs:\n",
    "        max_model_epochs = spec_epochs\n",
    "\n",
    "pyplot.grid()\n",
    "pyplot.legend()\n",
    "pyplot.xlabel(\"epoch\")\n",
    "pyplot.ylabel(\"loss\")\n",
    "pyplot.ylim(0.0003, 0.05)\n",
    "pyplot.xlim(0, 615)\n",
    "pyplot.yscale(\"log\")\n",
    "pyplot.show()"
   ]
  },
  {
   "cell_type": "markdown",
   "metadata": {},
   "source": [
    "## Submission"
   ]
  },
  {
   "cell_type": "markdown",
   "metadata": {},
   "source": [
    "Submission generating routines."
   ]
  },
  {
   "cell_type": "code",
   "execution_count": 25,
   "metadata": {
    "ExecuteTime": {
     "end_time": "2018-02-01T09:12:21.323298Z",
     "start_time": "2018-02-01T09:12:21.300342Z"
    }
   },
   "outputs": [],
   "source": [
    "from datetime import datetime\n",
    "\n",
    "def evaluate_specialist(X, spec_name, num_keypoints):\n",
    "    # Work out some specialist settings and prepare the file paths\n",
    "    spec_var_scope = model_name(spec_name)\n",
    "\n",
    "    # Build the graph\n",
    "    graph = tf.Graph()\n",
    "    with graph.as_default():\n",
    "        tf_x_batch = tf.placeholder(tf.float32, shape = (None, image_size, image_size, num_channels))\n",
    "        is_training = tf.placeholder(tf.bool)\n",
    "\n",
    "        with tf.variable_scope(spec_var_scope, reuse = False):\n",
    "            tf_p_batch = model_pass(tf_x_batch, num_keypoints, is_training)\n",
    "\n",
    "    with tf.Session(graph = graph) as session:\n",
    "        saver = tf.train.Saver()\n",
    "        saver.restore(session, model_path(spec_name))\n",
    "        p = []\n",
    "        batch_iterator = BatchIterator(batch_size=128)\n",
    "        for x_batch, _ in batch_iterator(X):\n",
    "            [p_batch] = session.run([tf_p_batch], feed_dict = {\n",
    "                    tf_x_batch : x_batch,\n",
    "                    is_training : False\n",
    "                }\n",
    "            )\n",
    "            p.extend(p_batch)\n",
    "        return p"
   ]
  },
  {
   "cell_type": "code",
   "execution_count": 27,
   "metadata": {
    "ExecuteTime": {
     "end_time": "2018-02-01T09:12:44.388951Z",
     "start_time": "2018-02-01T09:12:44.358963Z"
    }
   },
   "outputs": [],
   "source": [
    "def generate_submission():\n",
    "    X = load2d(test=True)[0]\n",
    "    y_pred = np.empty((X.shape[0], 0))\n",
    "\n",
    "    columns = ()\n",
    "    for spec_setting in SPECIALIST_SETTINGS:\n",
    "        p = evaluate_specialist(X, spec_setting['name'], len(spec_setting['columns']))\n",
    "        y_pred = np.hstack([y_pred, p])\n",
    "        columns += spec_setting['columns']\n",
    "\n",
    "    y_pred2 = y_pred * 48 + 48\n",
    "    y_pred2 = y_pred2.clip(0, 96)\n",
    "    df = DataFrame(y_pred2, columns=columns)\n",
    "\n",
    "    lookup_table = read_csv(os.path.expanduser(FLOOKUP))\n",
    "    values = []\n",
    "\n",
    "    for index, row in lookup_table.iterrows():\n",
    "        values.append((\n",
    "            row['RowId'],\n",
    "            df.ix[row.ImageId - 1][row.FeatureName],\n",
    "            ))\n",
    "\n",
    "    now_str = datetime.now().isoformat().replace(':', '-')\n",
    "    submission = DataFrame(values, columns=('RowId', 'Location'))\n",
    "    filename = root_location + 'specialists/submission-{}.csv'.format(now_str)\n",
    "    submission.to_csv(filename, index=False)\n",
    "    print(\"Wrote {}\".format(filename))"
   ]
  },
  {
   "cell_type": "markdown",
   "metadata": {},
   "source": [
    "Finally, generate your submission!"
   ]
  },
  {
   "cell_type": "code",
   "execution_count": 28,
   "metadata": {
    "ExecuteTime": {
     "end_time": "2018-02-01T09:13:02.407973Z",
     "start_time": "2018-02-01T09:12:48.898886Z"
    }
   },
   "outputs": [
    {
     "name": "stdout",
     "output_type": "stream",
     "text": [
      "ImageId    1783\n",
      "Image      1783\n",
      "dtype: int64\n",
      "INFO:tensorflow:Restoring parameters from /home/ubuntu/development/gh-repo/kaggle-facial-detection/notebooks/models/specialists/spec_eye_center/model.ckpt\n",
      "INFO:tensorflow:Restoring parameters from /home/ubuntu/development/gh-repo/kaggle-facial-detection/notebooks/models/specialists/spec_nose_tip/model.ckpt\n",
      "INFO:tensorflow:Restoring parameters from /home/ubuntu/development/gh-repo/kaggle-facial-detection/notebooks/models/specialists/spec_mouth_corner_top/model.ckpt\n",
      "INFO:tensorflow:Restoring parameters from /home/ubuntu/development/gh-repo/kaggle-facial-detection/notebooks/models/specialists/spec_mouth_bottom/model.ckpt\n",
      "INFO:tensorflow:Restoring parameters from /home/ubuntu/development/gh-repo/kaggle-facial-detection/notebooks/models/specialists/spec_eye_corner/model.ckpt\n",
      "INFO:tensorflow:Restoring parameters from /home/ubuntu/development/gh-repo/kaggle-facial-detection/notebooks/models/specialists/spec_eyebrow/model.ckpt\n"
     ]
    },
    {
     "name": "stderr",
     "output_type": "stream",
     "text": [
      "/home/ubuntu/anaconda2/envs/tf/lib/python3.6/site-packages/ipykernel_launcher.py:21: DeprecationWarning: \n",
      ".ix is deprecated. Please use\n",
      ".loc for label based indexing or\n",
      ".iloc for positional indexing\n",
      "\n",
      "See the documentation here:\n",
      "http://pandas.pydata.org/pandas-docs/stable/indexing.html#ix-indexer-is-deprecated\n"
     ]
    },
    {
     "name": "stdout",
     "output_type": "stream",
     "text": [
      "Wrote /home/ubuntu/development/gh-repo/kaggle-facial-detection/notebooks/models/specialists/submission-2018-02-01T09-13-02.308832.csv\n"
     ]
    }
   ],
   "source": [
    "generate_submission()"
   ]
  },
  {
   "cell_type": "code",
   "execution_count": null,
   "metadata": {},
   "outputs": [],
   "source": []
  }
 ],
 "metadata": {
  "kernelspec": {
   "display_name": "Python 3",
   "language": "python",
   "name": "python3"
  },
  "language_info": {
   "codemirror_mode": {
    "name": "ipython",
    "version": 3
   },
   "file_extension": ".py",
   "mimetype": "text/x-python",
   "name": "python",
   "nbconvert_exporter": "python",
   "pygments_lexer": "ipython3",
   "version": "3.6.4"
  },
  "notify_time": "10",
  "toc": {
   "nav_menu": {},
   "number_sections": true,
   "sideBar": true,
   "skip_h1_title": false,
   "toc_cell": false,
   "toc_position": {},
   "toc_section_display": "block",
   "toc_window_display": false
  },
  "varInspector": {
   "cols": {
    "lenName": 16,
    "lenType": 16,
    "lenVar": 40
   },
   "kernels_config": {
    "python": {
     "delete_cmd_postfix": "",
     "delete_cmd_prefix": "del ",
     "library": "var_list.py",
     "varRefreshCmd": "print(var_dic_list())"
    },
    "r": {
     "delete_cmd_postfix": ") ",
     "delete_cmd_prefix": "rm(",
     "library": "var_list.r",
     "varRefreshCmd": "cat(var_dic_list()) "
    }
   },
   "types_to_exclude": [
    "module",
    "function",
    "builtin_function_or_method",
    "instance",
    "_Feature"
   ],
   "window_display": false
  }
 },
 "nbformat": 4,
 "nbformat_minor": 2
}
